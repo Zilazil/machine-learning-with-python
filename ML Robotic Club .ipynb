{
 "cells": [
  {
   "cell_type": "markdown",
   "id": "641117c1",
   "metadata": {},
   "source": [
    "# Robotic Club"
   ]
  },
  {
   "cell_type": "markdown",
   "id": "ec7ac1e6",
   "metadata": {},
   "source": [
    "## python review"
   ]
  },
  {
   "cell_type": "code",
   "execution_count": 1,
   "id": "98e069ae",
   "metadata": {},
   "outputs": [
    {
     "name": "stdout",
     "output_type": "stream",
     "text": [
      "<class 'int'>\n",
      "<class 'float'>\n",
      "<class 'int'>\n",
      "<class 'bool'>\n",
      "<class 'bool'>\n",
      "<class 'str'>\n",
      "<class 'str'>\n",
      "<class 'str'>\n"
     ]
    }
   ],
   "source": [
    "print(type(0))\n",
    "print(type(0.6))\n",
    "print(type(-4))\n",
    "print(type(True))\n",
    "print(type(False))\n",
    "print(type('hello'))\n",
    "print(type('h'))\n",
    "print(type(\"python\"))"
   ]
  },
  {
   "cell_type": "markdown",
   "id": "df1b4b86",
   "metadata": {},
   "source": [
    "### type casting"
   ]
  },
  {
   "cell_type": "code",
   "execution_count": 2,
   "id": "7cb42299",
   "metadata": {},
   "outputs": [
    {
     "name": "stdout",
     "output_type": "stream",
     "text": [
      "5.0\n",
      "2\n",
      "False\n",
      "6\n"
     ]
    }
   ],
   "source": [
    "print(float(5))\n",
    "print(int(2.8))\n",
    "print(bool(0))\n",
    "print(str(6))"
   ]
  },
  {
   "cell_type": "code",
   "execution_count": 4,
   "id": "9874516f",
   "metadata": {},
   "outputs": [
    {
     "name": "stdout",
     "output_type": "stream",
     "text": [
      "102\n",
      "25\n",
      "38\n",
      "38\n",
      "5.5\n",
      "5\n"
     ]
    }
   ],
   "source": [
    "print(12+13+77)\n",
    "print(5*5)\n",
    "print(20+3*6)\n",
    "print(3*6+20)\n",
    "print(11/2)\n",
    "print(11//2)"
   ]
  },
  {
   "cell_type": "code",
   "execution_count": 5,
   "id": "243a527c",
   "metadata": {},
   "outputs": [
    {
     "name": "stdout",
     "output_type": "stream",
     "text": [
      "26.666666666666668 26.666666666666668\n"
     ]
    }
   ],
   "source": [
    "x=160\n",
    "y=x/6\n",
    "x=x/6\n",
    "print(y,x)"
   ]
  },
  {
   "cell_type": "markdown",
   "id": "dae95b81",
   "metadata": {},
   "source": [
    "### string operations"
   ]
  },
  {
   "cell_type": "code",
   "execution_count": 6,
   "id": "cae5c89e",
   "metadata": {},
   "outputs": [
    {
     "name": "stdout",
     "output_type": "stream",
     "text": [
      "h\n",
      "l\n",
      "!\n",
      "d\n",
      "hel\n",
      "lo \n",
      "hlowrd\n",
      "12\n"
     ]
    }
   ],
   "source": [
    "name=\"hello world!\"\n",
    "print(name[0])\n",
    "print(name[2])\n",
    "print(name[-1])\n",
    "print(name[-2])\n",
    "print(name[0:3])\n",
    "print(name[3:6])\n",
    "print(name[::2])\n",
    "print(len(name))"
   ]
  },
  {
   "cell_type": "code",
   "execution_count": 7,
   "id": "c144a579",
   "metadata": {},
   "outputs": [
    {
     "name": "stdout",
     "output_type": "stream",
     "text": [
      "hello world! is a teacher\n",
      "HELLO WORLD!\n",
      "reema is a singer\n",
      "8\n"
     ]
    }
   ],
   "source": [
    "ame=\"Carla\"\n",
    "print(name+\" is a teacher\")\n",
    "print(name.upper())\n",
    "sentence=\"reema is a singer\"\n",
    "print(sentence.replace('teacher','doctor'))\n",
    "print(name.find('rl'))"
   ]
  },
  {
   "cell_type": "markdown",
   "id": "10f09c31",
   "metadata": {},
   "source": [
    "### tuples"
   ]
  },
  {
   "cell_type": "code",
   "execution_count": 8,
   "id": "5b03aad9",
   "metadata": {},
   "outputs": [
    {
     "name": "stdout",
     "output_type": "stream",
     "text": [
      "(1, 0, 'my first lecture', True)\n",
      "--------------------------------------\n",
      "('blue', 'green', 'red', 'white', 'yellow')\n",
      "--------------------------------------\n",
      "('blue', 'green')\n",
      "3\n",
      "--------------------------------------\n",
      "(2, 'hi', (2, '13'))\n",
      "2\n",
      "hi\n",
      "(2, '13')\n",
      "13\n"
     ]
    }
   ],
   "source": [
    "my_tuple=(1,0,'my first lecture',True)\n",
    "print(my_tuple)\n",
    "print('--------------------------------------')\n",
    "tuple1=('blue','green','red')\n",
    "print(tuple1+('white','yellow'))\n",
    "print('--------------------------------------')\n",
    "print(tuple1[0:2])\n",
    "print(len(tuple1))\n",
    "print('--------------------------------------')\n",
    "tuple3=(2,'hi',(2,'13'))#nested tuple\n",
    "print(tuple3)\n",
    "print(tuple3[0])\n",
    "print(tuple3[1])\n",
    "print(tuple3[2])\n",
    "print(tuple3[2][1])"
   ]
  },
  {
   "cell_type": "markdown",
   "id": "aabae3b9",
   "metadata": {},
   "source": [
    "### lists"
   ]
  },
  {
   "cell_type": "code",
   "execution_count": 9,
   "id": "333eb1a3",
   "metadata": {},
   "outputs": [
    {
     "name": "stdout",
     "output_type": "stream",
     "text": [
      "['hello python', 0.9, ('A', 1), [1, 0, 2]]\n",
      "hello python\n",
      "1\n",
      "---------------------------------------------------\n",
      "['red', 'blue', 'green']\n",
      "['red', 'blue', 'white']\n",
      "['red', 'blue', 'white', ['white']]\n",
      "[0.9, ('A', 1)]\n"
     ]
    }
   ],
   "source": [
    "my_list=['hello python',0.9,('A',1),[1,0,2]]\n",
    "print(my_list)\n",
    "print(my_list[0])\n",
    "print(my_list[2][1])\n",
    "print('---------------------------------------------------')\n",
    "l1=['red','blue']\n",
    "l2=['green']\n",
    "print(l1+l2)\n",
    "l1.extend(['white'])\n",
    "print(l1)\n",
    "l1.append(['white'])\n",
    "print(l1)\n",
    "print(my_list[1:3])"
   ]
  },
  {
   "cell_type": "code",
   "execution_count": 10,
   "id": "fd8c01f0",
   "metadata": {},
   "outputs": [
    {
     "name": "stdout",
     "output_type": "stream",
     "text": [
      "['hello', 'salut', 'hi']\n"
     ]
    }
   ],
   "source": [
    "A=['hello','salut','morning']\n",
    "A[2]='hi'\n",
    "print(A)"
   ]
  },
  {
   "cell_type": "code",
   "execution_count": 11,
   "id": "7e73c2ce",
   "metadata": {},
   "outputs": [
    {
     "name": "stdout",
     "output_type": "stream",
     "text": [
      "['salut', 'hi']\n"
     ]
    }
   ],
   "source": [
    "del(A[0])\n",
    "print(A)"
   ]
  },
  {
   "cell_type": "code",
   "execution_count": 12,
   "id": "76f08556",
   "metadata": {},
   "outputs": [
    {
     "name": "stdout",
     "output_type": "stream",
     "text": [
      "['learn', 'python', 'for', 'machine', 'learning']\n",
      "['learn python for machine learning']\n"
     ]
    }
   ],
   "source": [
    "#CONVERT STRING TO LIST\n",
    "B='learn python for machine learning'\n",
    "print(B.split())\n",
    "print(B.split(\",\"))"
   ]
  },
  {
   "cell_type": "code",
   "execution_count": 13,
   "id": "d4b91f77",
   "metadata": {},
   "outputs": [
    {
     "name": "stdout",
     "output_type": "stream",
     "text": [
      "[1, 2, 3]\n",
      "[1, 2, 3]\n",
      "[1, 2, 3]\n",
      "[-1, 2, 3]\n",
      "[-1, 2, 3]\n",
      "[1, 2, 3]\n"
     ]
    }
   ],
   "source": [
    "#ALIASING VS CLONING\n",
    "C=[1,2,3]\n",
    "D=C\n",
    "E=C[:]\n",
    "print(C)\n",
    "print(D)\n",
    "print(E)\n",
    "C[0]=-1\n",
    "print(C)\n",
    "print(D)\n",
    "print(E)"
   ]
  },
  {
   "cell_type": "markdown",
   "id": "a186f57a",
   "metadata": {},
   "source": [
    "### dictionaries"
   ]
  },
  {
   "cell_type": "code",
   "execution_count": 14,
   "id": "04d8a2ce",
   "metadata": {},
   "outputs": [
    {
     "name": "stdout",
     "output_type": "stream",
     "text": [
      "{'key1': 'val1', 'key2': 'val2', 'key3': 'val3'}\n"
     ]
    }
   ],
   "source": [
    "D1={'key1':'val1','key2':'val2','key3':'val3'}\n",
    "print(D1)"
   ]
  },
  {
   "cell_type": "code",
   "execution_count": 15,
   "id": "d8168b25",
   "metadata": {},
   "outputs": [
    {
     "name": "stdout",
     "output_type": "stream",
     "text": [
      "{'A': 3}\n"
     ]
    }
   ],
   "source": [
    "D2={'A':1,'B':2}\n",
    "D2['A']=3\n",
    "del(D2['B'])\n",
    "print(D2)"
   ]
  },
  {
   "cell_type": "code",
   "execution_count": 16,
   "id": "c9611595",
   "metadata": {},
   "outputs": [
    {
     "name": "stdout",
     "output_type": "stream",
     "text": [
      "dict_keys(['green', 'red'])\n",
      "dict_values(['vert', 'noir'])\n"
     ]
    }
   ],
   "source": [
    "D3={'green':'vert','red':'noir'}\n",
    "print(D3.keys())\n",
    "print(D3.values())"
   ]
  },
  {
   "cell_type": "markdown",
   "id": "8a7befed",
   "metadata": {},
   "source": [
    "### sets"
   ]
  },
  {
   "cell_type": "markdown",
   "id": "6955a2b9",
   "metadata": {},
   "source": [
    "#### sets have unique elements"
   ]
  },
  {
   "cell_type": "code",
   "execution_count": 17,
   "id": "9a57efd5",
   "metadata": {},
   "outputs": [
    {
     "name": "stdout",
     "output_type": "stream",
     "text": [
      "{'d', 'c', 'b', 'a'}\n"
     ]
    }
   ],
   "source": [
    "set1={'a','b','c','d'}\n",
    "print(set1)"
   ]
  },
  {
   "cell_type": "code",
   "execution_count": 18,
   "id": "f651ffa5",
   "metadata": {},
   "outputs": [
    {
     "name": "stdout",
     "output_type": "stream",
     "text": [
      "['hello', 'world']\n",
      "{'d', 'c', 'b', 'a'}\n",
      "--------------------------------------------------\n",
      "{'d', 'b', '!', 'a', 'c'}\n",
      "---------------------------------------------------\n",
      "{'d', 'b', 'a', 'c'}\n"
     ]
    }
   ],
   "source": [
    "#convert list to set\n",
    "list1=['hello','world']\n",
    "set1=set(set1)\n",
    "print(list1)\n",
    "print(set1)\n",
    "print('--------------------------------------------------')\n",
    "set1.add('!')\n",
    "print(set1)\n",
    "print('---------------------------------------------------')\n",
    "set1.remove('!')\n",
    "print(set1)"
   ]
  },
  {
   "cell_type": "code",
   "execution_count": 19,
   "id": "153dee2c",
   "metadata": {},
   "outputs": [
    {
     "name": "stdout",
     "output_type": "stream",
     "text": [
      "{1, 2, 'a'}\n"
     ]
    },
    {
     "data": {
      "text/plain": [
       "True"
      ]
     },
     "execution_count": 19,
     "metadata": {},
     "output_type": "execute_result"
    }
   ],
   "source": [
    "set3={'a',1,2,1}\n",
    "print(set3)\n",
    "2 in set3"
   ]
  },
  {
   "cell_type": "code",
   "execution_count": 20,
   "id": "d4db6adb",
   "metadata": {},
   "outputs": [
    {
     "name": "stdout",
     "output_type": "stream",
     "text": [
      "{1, 2}\n",
      "{1, 2, 3, 4, 5}\n",
      "True\n"
     ]
    }
   ],
   "source": [
    "a={1,2,3}\n",
    "b={1,2,3,4}\n",
    "c={1,2,5}\n",
    "print(b & c)\n",
    "print(b.union(c))\n",
    "print(a.issubset(b))"
   ]
  },
  {
   "cell_type": "markdown",
   "id": "7ea0b0b1",
   "metadata": {},
   "source": [
    "### loops"
   ]
  },
  {
   "cell_type": "code",
   "execution_count": 21,
   "id": "b2c235d2",
   "metadata": {},
   "outputs": [
    {
     "name": "stdout",
     "output_type": "stream",
     "text": [
      "['black', 'black', 'black']\n"
     ]
    }
   ],
   "source": [
    "squares=['red','blue','green']\n",
    "for i in range(0,3):\n",
    "    squares[i]='black'\n",
    "print(squares)"
   ]
  },
  {
   "cell_type": "code",
   "execution_count": 22,
   "id": "00a88fa2",
   "metadata": {},
   "outputs": [
    {
     "name": "stdout",
     "output_type": "stream",
     "text": [
      "['black', 'black', 'black']\n"
     ]
    }
   ],
   "source": [
    "squares=['red','blue','green']\n",
    "i=0\n",
    "while i<3:\n",
    "    squares[i]='black'\n",
    "    i=i+1\n",
    "print(squares)"
   ]
  },
  {
   "cell_type": "markdown",
   "id": "7fe5e052",
   "metadata": {},
   "source": [
    "### conditions"
   ]
  },
  {
   "cell_type": "code",
   "execution_count": 26,
   "id": "a70f0be0",
   "metadata": {},
   "outputs": [
    {
     "name": "stdout",
     "output_type": "stream",
     "text": [
      "final case\n"
     ]
    }
   ],
   "source": [
    "x=1\n",
    "if (x==4):\n",
    "    print(x)\n",
    "elif (x>5):\n",
    "    print('this number is bigger than 5')\n",
    "else:\n",
    "    print('final case')"
   ]
  },
  {
   "cell_type": "markdown",
   "id": "282c689b",
   "metadata": {},
   "source": [
    "### functions"
   ]
  },
  {
   "cell_type": "code",
   "execution_count": null,
   "id": "cd1606aa",
   "metadata": {},
   "outputs": [],
   "source": [
    "\n",
    "def add(x,y):\n",
    "    output=x+y\n",
    "    return (output)\n",
    "add(1,4)"
   ]
  },
  {
   "cell_type": "code",
   "execution_count": null,
   "id": "0276f70e",
   "metadata": {},
   "outputs": [],
   "source": [
    "print('hello')"
   ]
  },
  {
   "cell_type": "code",
   "execution_count": null,
   "id": "75966029",
   "metadata": {},
   "outputs": [],
   "source": []
  }
 ],
 "metadata": {
  "kernelspec": {
   "display_name": "Python 3 (ipykernel)",
   "language": "python",
   "name": "python3"
  },
  "language_info": {
   "codemirror_mode": {
    "name": "ipython",
    "version": 3
   },
   "file_extension": ".py",
   "mimetype": "text/x-python",
   "name": "python",
   "nbconvert_exporter": "python",
   "pygments_lexer": "ipython3",
   "version": "3.9.10"
  }
 },
 "nbformat": 4,
 "nbformat_minor": 5
}
